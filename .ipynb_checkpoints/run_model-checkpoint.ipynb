{
 "cells": [
  {
   "cell_type": "code",
   "execution_count": 13,
   "metadata": {},
   "outputs": [],
   "source": [
    "import numpy as np\n",
    "import pandas as pd\n",
    "from matplotlib import pyplot as plt\n",
    "import torch\n",
    "import torch.nn as nn\n",
    "import torch.nn.functional as F\n",
    "\n",
    "from data.fetchdata import getProvinceData, getCountryData\n"
   ]
  },
  {
   "cell_type": "code",
   "execution_count": 88,
   "metadata": {},
   "outputs": [],
   "source": [
    "d, con, rec = getProvinceData(\"浙江省\")\n",
    "#d, con, cu = getCountryData(\"JP\")\n"
   ]
  },
  {
   "cell_type": "code",
   "execution_count": 89,
   "metadata": {},
   "outputs": [
    {
     "data": {
      "text/plain": [
       "<matplotlib.legend.Legend at 0x289c5f05080>"
      ]
     },
     "execution_count": 89,
     "metadata": {},
     "output_type": "execute_result"
    },
    {
     "data": {
      "image/png": "[encoded data removed]",
      "text/plain": [
       "<Figure size 432x288 with 1 Axes>"
      ]
     },
     "metadata": {
      "needs_background": "light"
     },
     "output_type": "display_data"
    }
   ],
   "source": [
    "plt.plot(rec, label='cured')\n",
    "plt.plot(con, label='confirmed')\n",
    "plt.plot(con-rec, label='being sick')\n",
    "plt.legend(loc='upper left')\n"
   ]
  },
  {
   "cell_type": "code",
   "execution_count": 12,
   "metadata": {},
   "outputs": [
    {
     "data": {
      "text/plain": [
       "array(['2020-01-20', '2020-01-21', '2020-01-22', '2020-01-23',\n",
       "       '2020-01-24', '2020-01-25', '2020-01-26', '2020-01-27',\n",
       "       '2020-01-28', '2020-01-29', '2020-01-30', '2020-01-31',\n",
       "       '2020-02-01', '2020-02-02', '2020-02-03', '2020-02-04',\n",
       "       '2020-02-05', '2020-02-06', '2020-02-07', '2020-02-08',\n",
       "       '2020-02-09', '2020-02-10', '2020-02-11', '2020-02-12',\n",
       "       '2020-02-13', '2020-02-14', '2020-02-15', '2020-02-16',\n",
       "       '2020-02-17', '2020-02-18', '2020-02-19', '2020-02-20',\n",
       "       '2020-02-21', '2020-02-22', '2020-02-23', '2020-02-24',\n",
       "       '2020-02-25', '2020-02-26', '2020-02-27', '2020-02-28',\n",
       "       '2020-02-29', '2020-03-01', '2020-03-02', '2020-03-03',\n",
       "       '2020-03-04'], dtype=object)"
      ]
     },
     "execution_count": 12,
     "metadata": {},
     "output_type": "execute_result"
    }
   ],
   "source": [
    "d"
   ]
  },
  {
   "cell_type": "code",
   "execution_count": 86,
   "metadata": {},
   "outputs": [],
   "source": [
    "def dataPrepare(total_population, confirmed, recovered, exposed_ratio):\n",
    "    days = len(confirmed)\n",
    "    X = []\n",
    "    y = []\n",
    "    for i in range(days-1):\n",
    "        I = confirmed[i]\n",
    "        R = recovered[i]\n",
    "        E = I * exposed_ratio\n",
    "        S = total_population - I - R - E\n",
    "        X.append([S, E, I, R])\n",
    "        y.append(confirmed[i+1])\n",
    "    return np.array(X), np.array(y).reshape((-1,1))"
   ]
  },
  {
   "cell_type": "code",
   "execution_count": 95,
   "metadata": {},
   "outputs": [],
   "source": [
    "province_population = 57000000\n",
    "X, y = dataPrepare(province_population, con, rec, 4)"
   ]
  },
  {
   "cell_type": "code",
   "execution_count": 97,
   "metadata": {},
   "outputs": [],
   "source": [
    "X_train = X\n",
    "y_train = y"
   ]
  },
  {
   "cell_type": "markdown",
   "metadata": {},
   "source": [
    "- $\\sigma$: $\\frac{1}{incubation time}$ ~ [$\\frac{1}{14}$, 1]\n",
    "- $\\gamma$: $\\frac{1}{recovery time}$ ~ [$\\frac{1}{17+4}$, $\\frac{1}{17-4}$]\n",
    "- $\\beta$: $R_0 = \\frac{\\beta}{\\gamma}$, $R_0$ of COVID-19 is around 1.4~3.8, so $\\beta$ ~ [0.067, 0.292]"
   ]
  },
  {
   "cell_type": "code",
   "execution_count": 102,
   "metadata": {},
   "outputs": [],
   "source": [
    "class SSEIR(nn.Module):\n",
    "    def __init__(self, beta_range, sigma_range, gamma_range):\n",
    "        super(SSEIR, self).__init__()\n",
    "        self.betaL = beta_range[0]\n",
    "        self.betaH = beta_range[1]\n",
    "        self.sigmaL = sigma_range[0]\n",
    "        self.sigmaH = sigma_range[1]\n",
    "        self.gammaL = gamma_range[0]\n",
    "        self.gammaH = gamma_range[1]\n",
    "        self.params = torch.tensor([0.17, 0.2, 0.07], dtype=torch.float, requires_grad=True)\n",
    "    \n",
    "    def forward(self, X):\n",
    "        S = X[0]\n",
    "        E = X[1]\n",
    "        I = X[2]\n",
    "        R = X[3]\n",
    "        N = S + E + I + R\n",
    "        preS = (1 - self.params[0]*I/N) * S\n",
    "        preE = (1 - self.params[1])*E + self.params[0]*I*S/N\n",
    "        preI = (1 - self.params[2])*I + self.params[1]*E\n",
    "        preR = R + self.params[2]*I\n",
    "        return (preS, preE, preI, preR)"
   ]
  },
  {
   "cell_type": "code",
   "execution_count": 137,
   "metadata": {},
   "outputs": [],
   "source": [
    "sseir = SSEIR(beta_range=[0.066, 0.292], sigma_range=[1.0/14, 1.0], gamma_range=[1.0/21, 1.0/13])\n",
    "sseir = sseir.float()"
   ]
  },
  {
   "cell_type": "code",
   "execution_count": 138,
   "metadata": {},
   "outputs": [],
   "source": [
    "criterion = nn.MSELoss()\n",
    "optimizer = torch.optim.Adam([sseir.params], lr=0.0005)"
   ]
  },
  {
   "cell_type": "code",
   "execution_count": 139,
   "metadata": {},
   "outputs": [
    {
     "name": "stdout",
     "output_type": "stream",
     "text": [
      "210374.83072395893\n",
      "158330.36191686717\n",
      "116932.09659758481\n",
      "84582.52698287097\n",
      "59582.391558040275\n",
      "41445.8581162366\n",
      "27949.501598358154\n",
      "18531.04346934232\n",
      "12063.669843240217\n",
      "7768.283487493341\n",
      "5031.919481104071\n",
      "3268.349392110651\n",
      "2252.052481391213\n",
      "1656.9378431493585\n",
      "1316.0764314478095\n",
      "1143.8013890006325\n",
      "1042.7468069249933\n",
      "995.6599764390426\n",
      "974.7103897441517\n",
      "957.9181095470082\n",
      "954.0889172987504\n",
      "950.3308036110618\n",
      "951.1986633647572\n",
      "952.4296334006569\n",
      "953.700267791748\n",
      "947.3637379732999\n",
      "948.2609913565896\n",
      "950.5582119334828\n",
      "948.1620740023526\n",
      "950.6872919256037\n",
      "955.3166826421565\n",
      "952.805460322987\n",
      "948.9122903997248\n",
      "947.9766124378551\n",
      "949.2712523720481\n",
      "951.4979253248734\n",
      "948.802185231989\n",
      "950.0707848288796\n",
      "947.8197917938232\n",
      "948.5962893746116\n",
      "950.0341739654541\n",
      "950.0361347198486\n",
      "947.6726271889427\n",
      "948.5101195248691\n",
      "950.7865151492032\n",
      "949.2173004150391\n",
      "948.0637309334495\n",
      "950.9555938027122\n",
      "950.3396207636052\n",
      "948.3734642375599\n",
      "950.0270416953347\n",
      "950.14554457231\n",
      "967.5044763738459\n",
      "952.6932440671054\n",
      "950.929860201749\n",
      "949.3379735079678\n",
      "949.1341575275768\n",
      "948.842304576527\n",
      "951.7304222800515\n",
      "948.9668998718262\n",
      "951.9274383891712\n",
      "951.4378755742854\n",
      "950.5679303949529\n",
      "954.3570575714111\n",
      "954.0187990015203\n",
      "951.6377169869163\n",
      "949.8052810322155\n",
      "949.0794050043279\n",
      "949.0681017095393\n",
      "952.9158318259499\n",
      "947.8266227028587\n",
      "951.847955010154\n",
      "958.5623607635498\n",
      "950.8658081401478\n",
      "947.7780917774547\n",
      "952.51254827326\n",
      "957.3987709392201\n",
      "956.1497421264648\n",
      "955.7848578366367\n",
      "948.4688441536643\n",
      "958.5918022502552\n",
      "954.3185546181419\n",
      "953.5131692019376\n",
      "951.6271013780074\n",
      "952.3097542849454\n",
      "950.451092633334\n",
      "956.7982819297097\n",
      "957.0357357371937\n",
      "963.711256720803\n",
      "963.9578798467463\n",
      "960.2750573591752\n",
      "961.6590758236972\n",
      "950.6330323652787\n",
      "949.6095891432328\n",
      "966.2374153137207\n",
      "956.2019089785489\n",
      "953.330378445712\n",
      "953.0684403506192\n",
      "952.9094272960316\n",
      "949.6219520568848\n",
      "959.2070392261852\n",
      "954.5929745760831\n",
      "951.4627586711537\n",
      "948.4748646129261\n",
      "948.730373729359\n",
      "968.6334306543523\n",
      "951.9636259945956\n",
      "954.3383922576904\n",
      "953.5692854794589\n",
      "954.0815479972146\n",
      "960.8875011097301\n",
      "958.0379576249557\n",
      "952.9671660336581\n",
      "954.5081294666637\n",
      "959.8281929709694\n",
      "951.9769460504705\n",
      "957.7950888547031\n",
      "954.7884086262096\n",
      "949.1900794289329\n",
      "969.2931527224454\n",
      "963.5642495588822\n",
      "964.7294705130837\n",
      "952.3307666778564\n",
      "951.1685355793346\n",
      "951.1117409792813\n",
      "957.2137522263961\n",
      "958.9100385145707\n",
      "954.125922983343\n",
      "950.4689558202571\n",
      "954.2914364554665\n",
      "962.2261917807839\n",
      "979.3543595400723\n",
      "951.0389492728493\n",
      "950.5407992276279\n",
      "950.8957712000066\n",
      "953.1811272014271\n",
      "956.2525978088379\n",
      "957.8107324080033\n",
      "954.1130131808194\n",
      "957.872859954834\n",
      "954.0313075672497\n",
      "954.5939740267667\n",
      "952.2814435091885\n",
      "960.4825534820557\n",
      "949.5316361514004\n",
      "964.2346156727184\n",
      "954.7336670268666\n",
      "958.1021997278386\n",
      "953.5531498302113\n",
      "954.8751014362682\n",
      "983.6233097423207\n",
      "961.7598677548496\n",
      "957.5056013627486\n",
      "969.6833364313298\n",
      "955.9462193575772\n",
      "971.4270241477273\n",
      "944.3568680503151\n",
      "961.506442156705\n",
      "968.9762398112904\n",
      "966.3303940512917\n",
      "949.5786637392911\n",
      "950.5321603254838\n",
      "977.0023059844971\n",
      "936.4152419350364\n",
      "961.5027888904918\n",
      "954.1814280423251\n",
      "946.1853459098122\n",
      "954.9136761752042\n",
      "951.6953483928334\n",
      "947.1039347215133\n",
      "963.3693996776234\n",
      "957.8725865103982\n",
      "959.9801828211004\n",
      "952.7453968741677\n",
      "955.271146254106\n",
      "962.4009945609353\n",
      "953.6390921852806\n",
      "946.336183201183\n",
      "949.4643195759166\n",
      "959.3740324540572\n",
      "952.5922837690873\n",
      "950.4471059279008\n",
      "958.2883377075195\n",
      "973.9351397427646\n",
      "936.2238738320091\n",
      "953.1032895174893\n",
      "956.0829577012496\n",
      "954.5172280398282\n",
      "950.440144105391\n",
      "957.3974031968551\n",
      "948.259257403287\n",
      "946.4099908308549\n",
      "958.2724498401989\n",
      "965.5037957971746\n",
      "981.8903309215199\n",
      "934.4753629511052\n",
      "944.1109050403942\n",
      "958.272478797219\n",
      "954.7911312796853\n",
      "951.8174376054244\n"
     ]
    }
   ],
   "source": [
    "num_epoch = 200\n",
    "lam0 = 0.5\n",
    "lam1 = 1\n",
    "lam2 = 1000\n",
    "lam3 = 1000\n",
    "\n",
    "for epoch in range(num_epoch):\n",
    "    ids = np.random.permutation(X_train.shape[0])\n",
    "    epoch_loss = 0.0\n",
    "    for sample_id in ids:\n",
    "        currday = torch.from_numpy(X_train[sample_id])\n",
    "        nextInfected = torch.from_numpy(y_train[sample_id])\n",
    "        \n",
    "        optimizer.zero_grad()\n",
    "        out = sseir(currday.float())\n",
    "        preInfected = out[2]\n",
    "        loss = criterion(preInfected, nextInfected.float())\n",
    "        reg = lam1*(F.relu(sseir.params[0]-sseir.betaH) + F.relu(sseir.betaL-sseir.params[0])) \\\n",
    "             +lam2*(F.relu(sseir.params[1]-sseir.sigmaH) + F.relu(sseir.sigmaL-sseir.params[1])) \\\n",
    "             +lam3*(F.relu(sseir.params[2]-sseir.gammaH) + F.relu(sseir.gammaL-sseir.params[2]))\n",
    "        loss = lam0*loss + (1-lam0)*reg\n",
    "        epoch_loss += loss.item()\n",
    "        loss.backward()\n",
    "        optimizer.step()\n",
    "    print (epoch_loss/len(ids))\n",
    "    "
   ]
  },
  {
   "cell_type": "code",
   "execution_count": 140,
   "metadata": {},
   "outputs": [
    {
     "data": {
      "text/plain": [
       "tensor([0.1700, 0.0510, 0.1824], requires_grad=True)"
      ]
     },
     "execution_count": 140,
     "metadata": {},
     "output_type": "execute_result"
    }
   ],
   "source": [
    "sseir.params"
   ]
  },
  {
   "cell_type": "code",
   "execution_count": 154,
   "metadata": {},
   "outputs": [
    {
     "data": {
      "text/plain": [
       "<function _VariableFunctions.log>"
      ]
     },
     "execution_count": 154,
     "metadata": {},
     "output_type": "execute_result"
    }
   ],
   "source": [
    "torch.log"
   ]
  },
  {
   "cell_type": "code",
   "execution_count": 156,
   "metadata": {},
   "outputs": [
    {
     "data": {
      "text/plain": [
       "tensor([nan], grad_fn=<LogBackward>)"
      ]
     },
     "execution_count": 156,
     "metadata": {},
     "output_type": "execute_result"
    }
   ],
   "source": [
    "torch.log(torch.tensor([-10], dtype=torch.float, requires_grad=True).float())"
   ]
  },
  {
   "cell_type": "code",
   "execution_count": 43,
   "metadata": {},
   "outputs": [],
   "source": [
    "p = torch.randint(low=10, high=15, size=(1,), dtype=torch.float, requires_grad=True)"
   ]
  },
  {
   "cell_type": "code",
   "execution_count": 58,
   "metadata": {},
   "outputs": [],
   "source": [
    "x = torch.rand((2,1), requires_grad=True)"
   ]
  },
  {
   "cell_type": "code",
   "execution_count": 98,
   "metadata": {},
   "outputs": [
    {
     "data": {
      "text/plain": [
       "tensor([57000000,        0,        0,        0])"
      ]
     },
     "execution_count": 98,
     "metadata": {},
     "output_type": "execute_result"
    }
   ],
   "source": [
    "torch.from_numpy(X[0])"
   ]
  },
  {
   "cell_type": "code",
   "execution_count": 60,
   "metadata": {},
   "outputs": [],
   "source": [
    "x[0,0] = p[0]"
   ]
  },
  {
   "cell_type": "code",
   "execution_count": 61,
   "metadata": {},
   "outputs": [
    {
     "data": {
      "text/plain": [
       "tensor(12., grad_fn=<SelectBackward>)"
      ]
     },
     "execution_count": 61,
     "metadata": {},
     "output_type": "execute_result"
    }
   ],
   "source": [
    "p[0]"
   ]
  },
  {
   "cell_type": "code",
   "execution_count": 105,
   "metadata": {},
   "outputs": [
    {
     "data": {
      "text/plain": [
       "tensor(5., grad_fn=<AddBackward0>)"
      ]
     },
     "execution_count": 105,
     "metadata": {},
     "output_type": "execute_result"
    }
   ],
   "source": [
    "p = x[0]+x[1]\n",
    "p"
   ]
  },
  {
   "cell_type": "code",
   "execution_count": 108,
   "metadata": {},
   "outputs": [
    {
     "data": {
      "text/plain": [
       "tensor(25., grad_fn=<PowBackward0>)"
      ]
     },
     "execution_count": 108,
     "metadata": {},
     "output_type": "execute_result"
    }
   ],
   "source": [
    "F.relu(p)**2"
   ]
  },
  {
   "cell_type": "code",
   "execution_count": 70,
   "metadata": {},
   "outputs": [],
   "source": [
    "x = torch.tensor((1,4), dtype=torch.float, requires_grad=True)"
   ]
  },
  {
   "cell_type": "code",
   "execution_count": 72,
   "metadata": {},
   "outputs": [
    {
     "data": {
      "text/plain": [
       "tensor([0.0500, 0.1000, 0.0100], requires_grad=True)"
      ]
     },
     "execution_count": 72,
     "metadata": {},
     "output_type": "execute_result"
    }
   ],
   "source": [
    "torch.tensor([0.05, 0.1, 0.01], dtype=torch.float, requires_grad=True)"
   ]
  }
 ],
 "metadata": {
  "kernelspec": {
   "display_name": "Python 3",
   "language": "python",
   "name": "python3"
  },
  "language_info": {
   "codemirror_mode": {
    "name": "ipython",
    "version": 3
   },
   "file_extension": ".py",
   "mimetype": "text/x-python",
   "name": "python",
   "nbconvert_exporter": "python",
   "pygments_lexer": "ipython3",
   "version": "3.6.9"
  }
 },
 "nbformat": 4,
 "nbformat_minor": 2
}
